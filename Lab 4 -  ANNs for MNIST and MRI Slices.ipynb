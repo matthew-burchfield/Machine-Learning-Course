{
 "cells": [
  {
   "cell_type": "markdown",
   "id": "5952f046",
   "metadata": {},
   "source": [
    "# Introduction to TensorFlow and Keras"
   ]
  },
  {
   "cell_type": "markdown",
   "id": "e254f13c",
   "metadata": {},
   "source": [
    "# Problems:\n",
    "\n",
    "### Problem 1: \n",
    "\n",
    "The MNIST dataset is a collection of images of handwritten numbers ranging from 0 to 9. I will train a deep learning model on the dataset to build a classifier. My goal is to hit 98% accuracy."
   ]
  },
  {
   "cell_type": "code",
   "execution_count": 1,
   "id": "284eb5c7",
   "metadata": {},
   "outputs": [],
   "source": [
    "import sklearn\n",
    "import tensorflow as tf\n",
    "import numpy as np\n",
    "import pandas as pd\n",
    "import os\n",
    "\n",
    "# to make this notebook's output stable across runs\n",
    "np.random.seed(42)\n",
    "\n",
    "# To plot pretty figures\n",
    "%matplotlib inline\n",
    "import matplotlib as mpl\n",
    "import matplotlib.pyplot as plt\n",
    "mpl.rc('axes', labelsize=14)\n",
    "mpl.rc('xtick', labelsize=18)\n",
    "mpl.rc('ytick', labelsize=18)\n",
    "mpl.rc('legend', fontsize=18)\n",
    "\n",
    "\n",
    "# Ignore useless warnings (see SciPy issue #5998)\n",
    "import warnings\n",
    "warnings.filterwarnings(action=\"ignore\", message=\"^internal gelsd\")"
   ]
  },
  {
   "cell_type": "code",
   "execution_count": 2,
   "id": "13f02954",
   "metadata": {},
   "outputs": [
    {
     "name": "stdout",
     "output_type": "stream",
     "text": [
      "X_train shape: (5000, 28, 28)\n",
      "y_train shape: (5000,)\n",
      "X_test shape: (1000, 28, 28)\n",
      "y_test shape: (1000,)\n"
     ]
    }
   ],
   "source": [
    "import keras\n",
    "from keras.datasets import mnist\n",
    "(X_train, y_train), (X_test, y_test) = mnist.load_data()\n",
    "\n",
    "X_train = X_train[:5000]\n",
    "y_train = y_train[:5000]\n",
    "X_test = X_test[:1000]\n",
    "y_test = y_test[:1000]\n",
    "\n",
    "\n",
    "y_traind = pd.get_dummies(y_train)\n",
    "y_testd = pd.get_dummies(y_test)\n",
    "\n",
    "\n",
    "#scale pixels down to be between 0 and 1 (these work better with our activation functions below)\n",
    "\n",
    "X_train, X_test = X_train/255., X_test/255.\n",
    "\n",
    "print(\"X_train shape:\", X_train.shape)\n",
    "print('y_train shape:', y_train.shape)\n",
    "print('X_test shape:', X_test.shape)\n",
    "print('y_test shape:', y_test.shape)"
   ]
  },
  {
   "cell_type": "code",
   "execution_count": 3,
   "id": "61911653",
   "metadata": {},
   "outputs": [
    {
     "data": {
      "text/plain": [
       "<matplotlib.image.AxesImage at 0x18cdf5f2220>"
      ]
     },
     "execution_count": 3,
     "metadata": {},
     "output_type": "execute_result"
    },
    {
     "data": {
      "image/png": "[encoded data removed]",
      "text/plain": [
       "<Figure size 640x480 with 1 Axes>"
      ]
     },
     "metadata": {},
     "output_type": "display_data"
    }
   ],
   "source": [
    "plt.imshow(X_train[0], cmap=\"binary\")"
   ]
  },
  {
   "cell_type": "code",
   "execution_count": 4,
   "id": "f6b4783a",
   "metadata": {},
   "outputs": [],
   "source": [
    "#need to reshape the data for the model to work\n",
    "\n",
    "X_train_reshape = X_train.reshape(-1, 28*28)\n",
    "X_test_reshape = X_test.reshape(-1, 28*28)"
   ]
  },
  {
   "cell_type": "code",
   "execution_count": 5,
   "id": "193a9ea4",
   "metadata": {},
   "outputs": [],
   "source": [
    "from keras.models import Sequential\n",
    "from keras.layers import Flatten, Dense"
   ]
  },
  {
   "cell_type": "markdown",
   "id": "16006dfd",
   "metadata": {},
   "source": [
    "I was able to very easily achieve high accuracy on the training data. As I made my model more and more sophisticated, adding layers and tuning the hyperparamaters, I eventually encountered an overfitting problem. This was evidenced by the fact that accuracy on the training set swells to 100% but validation loss flatlines and even begins to increase as seen below. "
   ]
  },
  {
   "cell_type": "code",
   "execution_count": 7,
   "id": "b4dabf6c",
   "metadata": {},
   "outputs": [
    {
     "name": "stdout",
     "output_type": "stream",
     "text": [
      "Model: \"sequential_1\"\n",
      "_________________________________________________________________\n",
      " Layer (type)                Output Shape              Param #   \n",
      "=================================================================\n",
      " flatten_1 (Flatten)         (None, 784)               0         \n",
      "                                                                 \n",
      " dense_3 (Dense)             (None, 300)               235500    \n",
      "                                                                 \n",
      " dense_4 (Dense)             (None, 300)               90300     \n",
      "                                                                 \n",
      " dense_5 (Dense)             (None, 10)                3010      \n",
      "                                                                 \n",
      "=================================================================\n",
      "Total params: 328,810\n",
      "Trainable params: 328,810\n",
      "Non-trainable params: 0\n",
      "_________________________________________________________________\n",
      "Epoch 1/40\n",
      "157/157 [==============================] - 2s 7ms/step - loss: 0.5290 - accuracy: 0.8484 - val_loss: 0.3857 - val_accuracy: 0.8820\n",
      "Epoch 2/40\n",
      "157/157 [==============================] - 1s 5ms/step - loss: 0.2000 - accuracy: 0.9416 - val_loss: 0.3324 - val_accuracy: 0.8960\n",
      "Epoch 3/40\n",
      "157/157 [==============================] - 1s 5ms/step - loss: 0.1154 - accuracy: 0.9656 - val_loss: 0.2872 - val_accuracy: 0.9140\n",
      "Epoch 4/40\n",
      "157/157 [==============================] - 1s 5ms/step - loss: 0.0754 - accuracy: 0.9792 - val_loss: 0.2657 - val_accuracy: 0.9250\n",
      "Epoch 5/40\n",
      "157/157 [==============================] - 1s 5ms/step - loss: 0.0473 - accuracy: 0.9878 - val_loss: 0.2686 - val_accuracy: 0.9130\n",
      "Epoch 6/40\n",
      "157/157 [==============================] - 1s 5ms/step - loss: 0.0255 - accuracy: 0.9932 - val_loss: 0.2352 - val_accuracy: 0.9310\n",
      "Epoch 7/40\n",
      "157/157 [==============================] - 1s 5ms/step - loss: 0.0257 - accuracy: 0.9948 - val_loss: 0.2322 - val_accuracy: 0.9300\n",
      "Epoch 8/40\n",
      "157/157 [==============================] - 1s 5ms/step - loss: 0.0174 - accuracy: 0.9958 - val_loss: 0.2355 - val_accuracy: 0.9350\n",
      "Epoch 9/40\n",
      "157/157 [==============================] - 1s 5ms/step - loss: 0.0063 - accuracy: 0.9984 - val_loss: 0.2081 - val_accuracy: 0.9410\n",
      "Epoch 10/40\n",
      "157/157 [==============================] - 1s 5ms/step - loss: 0.0017 - accuracy: 1.0000 - val_loss: 0.2041 - val_accuracy: 0.9420\n",
      "Epoch 11/40\n",
      "157/157 [==============================] - 1s 5ms/step - loss: 8.6191e-04 - accuracy: 1.0000 - val_loss: 0.2060 - val_accuracy: 0.9440\n",
      "Epoch 12/40\n",
      "157/157 [==============================] - 1s 5ms/step - loss: 6.4648e-04 - accuracy: 1.0000 - val_loss: 0.2077 - val_accuracy: 0.9420\n",
      "Epoch 13/40\n",
      "157/157 [==============================] - 1s 6ms/step - loss: 5.2142e-04 - accuracy: 1.0000 - val_loss: 0.2102 - val_accuracy: 0.9450\n",
      "Epoch 14/40\n",
      "157/157 [==============================] - 1s 5ms/step - loss: 4.3662e-04 - accuracy: 1.0000 - val_loss: 0.2124 - val_accuracy: 0.9460\n",
      "Epoch 15/40\n",
      "157/157 [==============================] - 1s 5ms/step - loss: 3.7082e-04 - accuracy: 1.0000 - val_loss: 0.2168 - val_accuracy: 0.9430\n",
      "Epoch 16/40\n",
      "157/157 [==============================] - 1s 6ms/step - loss: 3.2771e-04 - accuracy: 1.0000 - val_loss: 0.2180 - val_accuracy: 0.9440\n",
      "Epoch 17/40\n",
      "157/157 [==============================] - 1s 5ms/step - loss: 2.7681e-04 - accuracy: 1.0000 - val_loss: 0.2208 - val_accuracy: 0.9440\n",
      "Epoch 18/40\n",
      "157/157 [==============================] - 1s 6ms/step - loss: 2.4460e-04 - accuracy: 1.0000 - val_loss: 0.2232 - val_accuracy: 0.9450\n",
      "Epoch 19/40\n",
      "157/157 [==============================] - 1s 5ms/step - loss: 2.1440e-04 - accuracy: 1.0000 - val_loss: 0.2246 - val_accuracy: 0.9440\n",
      "Epoch 20/40\n",
      "157/157 [==============================] - 1s 6ms/step - loss: 1.8874e-04 - accuracy: 1.0000 - val_loss: 0.2266 - val_accuracy: 0.9440\n",
      "Epoch 21/40\n",
      "157/157 [==============================] - 1s 6ms/step - loss: 1.6727e-04 - accuracy: 1.0000 - val_loss: 0.2291 - val_accuracy: 0.9430\n",
      "Epoch 22/40\n",
      "157/157 [==============================] - 1s 6ms/step - loss: 1.4794e-04 - accuracy: 1.0000 - val_loss: 0.2296 - val_accuracy: 0.9440\n",
      "Epoch 23/40\n",
      "157/157 [==============================] - 1s 5ms/step - loss: 1.3273e-04 - accuracy: 1.0000 - val_loss: 0.2323 - val_accuracy: 0.9440\n",
      "Epoch 24/40\n",
      "157/157 [==============================] - 1s 5ms/step - loss: 1.1726e-04 - accuracy: 1.0000 - val_loss: 0.2351 - val_accuracy: 0.9430\n",
      "Epoch 25/40\n",
      "157/157 [==============================] - 1s 6ms/step - loss: 1.0503e-04 - accuracy: 1.0000 - val_loss: 0.2362 - val_accuracy: 0.9450\n",
      "Epoch 26/40\n",
      "157/157 [==============================] - 1s 6ms/step - loss: 9.5299e-05 - accuracy: 1.0000 - val_loss: 0.2379 - val_accuracy: 0.9440\n",
      "Epoch 27/40\n",
      "157/157 [==============================] - 1s 6ms/step - loss: 8.3572e-05 - accuracy: 1.0000 - val_loss: 0.2417 - val_accuracy: 0.9460\n",
      "Epoch 28/40\n",
      "157/157 [==============================] - 1s 5ms/step - loss: 7.5388e-05 - accuracy: 1.0000 - val_loss: 0.2418 - val_accuracy: 0.9450\n",
      "Epoch 29/40\n",
      "157/157 [==============================] - 1s 5ms/step - loss: 6.7288e-05 - accuracy: 1.0000 - val_loss: 0.2442 - val_accuracy: 0.9440\n",
      "Epoch 30/40\n",
      "157/157 [==============================] - 1s 6ms/step - loss: 6.0586e-05 - accuracy: 1.0000 - val_loss: 0.2466 - val_accuracy: 0.9440\n",
      "Epoch 31/40\n",
      "157/157 [==============================] - 1s 6ms/step - loss: 5.3669e-05 - accuracy: 1.0000 - val_loss: 0.2497 - val_accuracy: 0.9430\n",
      "Epoch 32/40\n",
      "157/157 [==============================] - 1s 6ms/step - loss: 4.8741e-05 - accuracy: 1.0000 - val_loss: 0.2511 - val_accuracy: 0.9430\n",
      "Epoch 33/40\n",
      "157/157 [==============================] - 1s 5ms/step - loss: 4.3581e-05 - accuracy: 1.0000 - val_loss: 0.2525 - val_accuracy: 0.9440\n",
      "Epoch 34/40\n",
      "157/157 [==============================] - 1s 5ms/step - loss: 3.9016e-05 - accuracy: 1.0000 - val_loss: 0.2556 - val_accuracy: 0.9440\n",
      "Epoch 35/40\n",
      "157/157 [==============================] - 1s 5ms/step - loss: 3.5366e-05 - accuracy: 1.0000 - val_loss: 0.2566 - val_accuracy: 0.9440\n",
      "Epoch 36/40\n",
      "157/157 [==============================] - 1s 6ms/step - loss: 3.1893e-05 - accuracy: 1.0000 - val_loss: 0.2591 - val_accuracy: 0.9450\n",
      "Epoch 37/40\n",
      "157/157 [==============================] - 1s 6ms/step - loss: 2.8438e-05 - accuracy: 1.0000 - val_loss: 0.2627 - val_accuracy: 0.9450\n",
      "Epoch 38/40\n",
      "157/157 [==============================] - 1s 6ms/step - loss: 2.5849e-05 - accuracy: 1.0000 - val_loss: 0.2640 - val_accuracy: 0.9440\n",
      "Epoch 39/40\n",
      "157/157 [==============================] - 1s 6ms/step - loss: 2.3031e-05 - accuracy: 1.0000 - val_loss: 0.2666 - val_accuracy: 0.9420\n",
      "Epoch 40/40\n",
      "157/157 [==============================] - 1s 5ms/step - loss: 2.0828e-05 - accuracy: 1.0000 - val_loss: 0.2679 - val_accuracy: 0.9440\n"
     ]
    },
    {
     "data": {
      "text/plain": [
       "(0.0, 1.0)"
      ]
     },
     "execution_count": 7,
     "metadata": {},
     "output_type": "execute_result"
    },
    {
     "data": {
      "image/png": "[encoded data removed]",
      "text/plain": [
       "<Figure size 800x500 with 1 Axes>"
      ]
     },
     "metadata": {},
     "output_type": "display_data"
    }
   ],
   "source": [
    "model = keras.models.Sequential()\n",
    "model.add(keras.layers.Flatten(input_dim = 784))\n",
    "model.add(keras.layers.Dense(300, activation = 'relu'))\n",
    "model.add(keras.layers.Dense(300, activation = 'relu'))\n",
    "model.add(keras.layers.Dense(10, activation = 'softmax')) #softmax or sigmoid should be the activation in the output layer since the target is a categorical\n",
    "\n",
    "model.summary()\n",
    "\n",
    "model.compile(loss=\"categorical_crossentropy\", #categorical crossentropy is used when the target is a categorical\n",
    "              optimizer=\"adam\",\n",
    "              metrics=[\"accuracy\"])\n",
    "\n",
    "history = model.fit(X_train_reshape, y_traind, epochs=40,\n",
    "                    validation_data=(X_test_reshape, y_testd))\n",
    "\n",
    "pd.DataFrame(history.history).plot(figsize=(8, 5))\n",
    "plt.grid(True)\n",
    "plt.ylim(0, 1)"
   ]
  },
  {
   "cell_type": "markdown",
   "id": "da456c56",
   "metadata": {},
   "source": [
    "I explored a number of ways of addressing the overfitting, such as dropout layers. After manually inspecting the gradients I determined that they were vanishing, so I added batch normalization to regulate that. \n",
    "\n",
    "I gradually realized that the level of sophistication I needed in my model was such that I was bound to encounter overfitting, unless I expanded my dataset. \n",
    "\n",
    "(I also at one point noticed that sigmoid as the activation function in the output layer gave a mild improvement in accuracy."
   ]
  },
  {
   "cell_type": "code",
   "execution_count": 9,
   "id": "f42bc66b",
   "metadata": {},
   "outputs": [
    {
     "name": "stdout",
     "output_type": "stream",
     "text": [
      "X_train_full shape: (60000, 784)\n",
      "y_train_full shape_full: (60000,)\n",
      "X_test_full shape_full: (10000, 784)\n",
      "y_test_full shape: (10000,)\n"
     ]
    }
   ],
   "source": [
    "(X_train_full, y_train_full), (X_test_full, y_test_full) = mnist.load_data()\n",
    "\n",
    "X_train_full = X_train_full.reshape(-1, 28*28)\n",
    "X_test_full = X_test_full.reshape(-1, 28*28)\n",
    "\n",
    "y_traind_full = pd.get_dummies(y_train_full)\n",
    "y_testd_full = pd.get_dummies(y_test_full)\n",
    "\n",
    "X_train_full, X_test_full = X_train_full/255., X_test_full/255.\n",
    "\n",
    "print(\"X_train_full shape:\", X_train_full.shape)\n",
    "print('y_train_full shape_full:', y_train_full.shape)\n",
    "print('X_test_full shape_full:', X_test_full.shape)\n",
    "print('y_test_full shape:', y_test_full.shape)"
   ]
  },
  {
   "cell_type": "code",
   "execution_count": 11,
   "id": "04afd960",
   "metadata": {},
   "outputs": [
    {
     "name": "stdout",
     "output_type": "stream",
     "text": [
      "Model: \"sequential_4\"\n",
      "_________________________________________________________________\n",
      " Layer (type)                Output Shape              Param #   \n",
      "=================================================================\n",
      " flatten_4 (Flatten)         (None, 784)               0         \n",
      "                                                                 \n",
      " batch_normalization_4 (Batc  (None, 784)              3136      \n",
      " hNormalization)                                                 \n",
      "                                                                 \n",
      " dense_12 (Dense)            (None, 300)               235500    \n",
      "                                                                 \n",
      " dropout_2 (Dropout)         (None, 300)               0         \n",
      "                                                                 \n",
      " batch_normalization_5 (Batc  (None, 300)              1200      \n",
      " hNormalization)                                                 \n",
      "                                                                 \n",
      " dense_13 (Dense)            (None, 300)               90300     \n",
      "                                                                 \n",
      " dense_14 (Dense)            (None, 10)                3010      \n",
      "                                                                 \n",
      "=================================================================\n",
      "Total params: 333,146\n",
      "Trainable params: 330,978\n",
      "Non-trainable params: 2,168\n",
      "_________________________________________________________________\n",
      "Epoch 1/10\n",
      "1875/1875 [==============================] - 14s 6ms/step - loss: 0.2640 - accuracy: 0.9172 - val_loss: 0.1193 - val_accuracy: 0.9659\n",
      "Epoch 2/10\n",
      "1875/1875 [==============================] - 11s 6ms/step - loss: 0.1513 - accuracy: 0.9530 - val_loss: 0.1117 - val_accuracy: 0.9712\n",
      "Epoch 3/10\n",
      "1875/1875 [==============================] - 11s 6ms/step - loss: 0.1233 - accuracy: 0.9608 - val_loss: 0.0909 - val_accuracy: 0.9751\n",
      "Epoch 4/10\n",
      "1875/1875 [==============================] - 11s 6ms/step - loss: 0.1036 - accuracy: 0.9670 - val_loss: 0.0818 - val_accuracy: 0.9759\n",
      "Epoch 5/10\n",
      "1875/1875 [==============================] - 11s 6ms/step - loss: 0.0924 - accuracy: 0.9701 - val_loss: 0.1059 - val_accuracy: 0.9735\n",
      "Epoch 6/10\n",
      "1875/1875 [==============================] - 11s 6ms/step - loss: 0.0822 - accuracy: 0.9737 - val_loss: 0.0946 - val_accuracy: 0.9754\n",
      "Epoch 7/10\n",
      "1875/1875 [==============================] - 11s 6ms/step - loss: 0.0769 - accuracy: 0.9753 - val_loss: 0.0844 - val_accuracy: 0.9782\n",
      "Epoch 8/10\n",
      "1875/1875 [==============================] - 11s 6ms/step - loss: 0.0702 - accuracy: 0.9784 - val_loss: 0.0848 - val_accuracy: 0.9811\n",
      "Epoch 9/10\n",
      "1875/1875 [==============================] - 11s 6ms/step - loss: 0.0675 - accuracy: 0.9782 - val_loss: 0.0871 - val_accuracy: 0.9792\n",
      "Epoch 10/10\n",
      "1875/1875 [==============================] - 11s 6ms/step - loss: 0.0651 - accuracy: 0.9787 - val_loss: 0.0811 - val_accuracy: 0.9806\n"
     ]
    },
    {
     "data": {
      "text/plain": [
       "(0.0, 1.0)"
      ]
     },
     "execution_count": 11,
     "metadata": {},
     "output_type": "execute_result"
    },
    {
     "data": {
      "image/png": "[encoded data removed]",
      "text/plain": [
       "<Figure size 800x500 with 1 Axes>"
      ]
     },
     "metadata": {},
     "output_type": "display_data"
    }
   ],
   "source": [
    "model = keras.models.Sequential()\n",
    "model.add(keras.layers.Flatten(input_dim = 784))\n",
    "model.add(keras.layers.BatchNormalization())\n",
    "model.add(keras.layers.Dense(300, activation = 'relu'))\n",
    "model.add(keras.layers.Dropout(0.3))\n",
    "model.add(keras.layers.BatchNormalization())\n",
    "model.add(keras.layers.Dense(300, activation = 'relu'))\n",
    "model.add(keras.layers.Dense(10, activation = 'sigmoid')) \n",
    "\n",
    "model.summary()\n",
    "\n",
    "\n",
    "model.compile(loss=\"categorical_crossentropy\",\n",
    "              optimizer=\"adam\",\n",
    "              metrics=[\"accuracy\"])\n",
    "\n",
    "history = model.fit(X_train_full, y_traind_full, epochs=10,\n",
    "                    validation_data=(X_test_full, y_testd_full))\n",
    "\n",
    "pd.DataFrame(history.history).plot(figsize=(8, 5))\n",
    "plt.grid(True)\n",
    "plt.ylim(0, 1)"
   ]
  },
  {
   "cell_type": "markdown",
   "id": "441d4d3d",
   "metadata": {},
   "source": [
    "Notice that from the very beginnning the model gave high accuracies on both training and validation data, as well as low validation losses that gradually decreased from epoch to epoch. All of these are indications that the model is not merely memorizing the data but actually learning from the features.\n",
    "\n",
    "The validation accuracy crossed the 98% threshold in the 10th epoch, thus satisfying the goal I set forth at the beginning of this problem."
   ]
  },
  {
   "cell_type": "code",
   "execution_count": 12,
   "id": "0d3a39cd",
   "metadata": {},
   "outputs": [],
   "source": [
    "model.save(\"mnist_keras_model.h5\")"
   ]
  },
  {
   "cell_type": "markdown",
   "id": "43f45154",
   "metadata": {},
   "source": [
    "### Problem 2:\n",
    "\n",
    "Training a deep neural network on the MRI slices. The final model has a great deal of room for improvement. In Lab 5, I build an even stronger classifier using a 2 dimensional convolutional neural network."
   ]
  },
  {
   "cell_type": "markdown",
   "id": "964d02c8",
   "metadata": {},
   "source": [
    "In Lab 3, I discovered that it's better to treat the target variable (states of dementia) as a categorical.\n",
    "\n",
    "I will do so below."
   ]
  },
  {
   "cell_type": "code",
   "execution_count": 13,
   "id": "2c8bc287",
   "metadata": {},
   "outputs": [
    {
     "data": {
      "text/html": [
       "<div>\n",
       "<style scoped>\n",
       "    .dataframe tbody tr th:only-of-type {\n",
       "        vertical-align: middle;\n",
       "    }\n",
       "\n",
       "    .dataframe tbody tr th {\n",
       "        vertical-align: top;\n",
       "    }\n",
       "\n",
       "    .dataframe thead th {\n",
       "        text-align: right;\n",
       "    }\n",
       "</style>\n",
       "<table border=\"1\" class=\"dataframe\">\n",
       "  <thead>\n",
       "    <tr style=\"text-align: right;\">\n",
       "      <th></th>\n",
       "      <th>Unnamed: 0</th>\n",
       "      <th>ID</th>\n",
       "      <th>M/F</th>\n",
       "      <th>Hand</th>\n",
       "      <th>Age</th>\n",
       "      <th>Educ</th>\n",
       "      <th>SES</th>\n",
       "      <th>MMSE</th>\n",
       "      <th>CDR</th>\n",
       "      <th>eTIV</th>\n",
       "      <th>nWBV</th>\n",
       "      <th>ASF</th>\n",
       "      <th>Delay</th>\n",
       "      <th>Filename</th>\n",
       "    </tr>\n",
       "  </thead>\n",
       "  <tbody>\n",
       "    <tr>\n",
       "      <th>0</th>\n",
       "      <td>0</td>\n",
       "      <td>OAS1_0001_MR1</td>\n",
       "      <td>F</td>\n",
       "      <td>R</td>\n",
       "      <td>74</td>\n",
       "      <td>2.0</td>\n",
       "      <td>3.0</td>\n",
       "      <td>29.0</td>\n",
       "      <td>0.0</td>\n",
       "      <td>1344</td>\n",
       "      <td>0.743</td>\n",
       "      <td>1.306</td>\n",
       "      <td>NaN</td>\n",
       "      <td>OAS1_0001_MR1_mpr_n4_anon_111_t88_gfc_44.png</td>\n",
       "    </tr>\n",
       "    <tr>\n",
       "      <th>1</th>\n",
       "      <td>1</td>\n",
       "      <td>OAS1_0001_MR1</td>\n",
       "      <td>F</td>\n",
       "      <td>R</td>\n",
       "      <td>74</td>\n",
       "      <td>2.0</td>\n",
       "      <td>3.0</td>\n",
       "      <td>29.0</td>\n",
       "      <td>0.0</td>\n",
       "      <td>1344</td>\n",
       "      <td>0.743</td>\n",
       "      <td>1.306</td>\n",
       "      <td>NaN</td>\n",
       "      <td>OAS1_0001_MR1_mpr_n4_anon_111_t88_gfc_86.png</td>\n",
       "    </tr>\n",
       "    <tr>\n",
       "      <th>2</th>\n",
       "      <td>2</td>\n",
       "      <td>OAS1_0001_MR1</td>\n",
       "      <td>F</td>\n",
       "      <td>R</td>\n",
       "      <td>74</td>\n",
       "      <td>2.0</td>\n",
       "      <td>3.0</td>\n",
       "      <td>29.0</td>\n",
       "      <td>0.0</td>\n",
       "      <td>1344</td>\n",
       "      <td>0.743</td>\n",
       "      <td>1.306</td>\n",
       "      <td>NaN</td>\n",
       "      <td>OAS1_0001_MR1_mpr_n4_anon_111_t88_gfc_128.png</td>\n",
       "    </tr>\n",
       "    <tr>\n",
       "      <th>3</th>\n",
       "      <td>3</td>\n",
       "      <td>OAS1_0002_MR1</td>\n",
       "      <td>F</td>\n",
       "      <td>R</td>\n",
       "      <td>55</td>\n",
       "      <td>4.0</td>\n",
       "      <td>1.0</td>\n",
       "      <td>29.0</td>\n",
       "      <td>0.0</td>\n",
       "      <td>1147</td>\n",
       "      <td>0.810</td>\n",
       "      <td>1.531</td>\n",
       "      <td>NaN</td>\n",
       "      <td>OAS1_0002_MR1_mpr_n4_anon_111_t88_gfc_44.png</td>\n",
       "    </tr>\n",
       "    <tr>\n",
       "      <th>4</th>\n",
       "      <td>4</td>\n",
       "      <td>OAS1_0002_MR1</td>\n",
       "      <td>F</td>\n",
       "      <td>R</td>\n",
       "      <td>55</td>\n",
       "      <td>4.0</td>\n",
       "      <td>1.0</td>\n",
       "      <td>29.0</td>\n",
       "      <td>0.0</td>\n",
       "      <td>1147</td>\n",
       "      <td>0.810</td>\n",
       "      <td>1.531</td>\n",
       "      <td>NaN</td>\n",
       "      <td>OAS1_0002_MR1_mpr_n4_anon_111_t88_gfc_86.png</td>\n",
       "    </tr>\n",
       "    <tr>\n",
       "      <th>...</th>\n",
       "      <td>...</td>\n",
       "      <td>...</td>\n",
       "      <td>...</td>\n",
       "      <td>...</td>\n",
       "      <td>...</td>\n",
       "      <td>...</td>\n",
       "      <td>...</td>\n",
       "      <td>...</td>\n",
       "      <td>...</td>\n",
       "      <td>...</td>\n",
       "      <td>...</td>\n",
       "      <td>...</td>\n",
       "      <td>...</td>\n",
       "      <td>...</td>\n",
       "    </tr>\n",
       "    <tr>\n",
       "      <th>697</th>\n",
       "      <td>697</td>\n",
       "      <td>OAS1_0456_MR1</td>\n",
       "      <td>M</td>\n",
       "      <td>R</td>\n",
       "      <td>61</td>\n",
       "      <td>5.0</td>\n",
       "      <td>2.0</td>\n",
       "      <td>30.0</td>\n",
       "      <td>0.0</td>\n",
       "      <td>1637</td>\n",
       "      <td>0.780</td>\n",
       "      <td>1.072</td>\n",
       "      <td>NaN</td>\n",
       "      <td>OAS1_0456_MR1_mpr_n4_anon_111_t88_gfc_86.png</td>\n",
       "    </tr>\n",
       "    <tr>\n",
       "      <th>698</th>\n",
       "      <td>698</td>\n",
       "      <td>OAS1_0456_MR1</td>\n",
       "      <td>M</td>\n",
       "      <td>R</td>\n",
       "      <td>61</td>\n",
       "      <td>5.0</td>\n",
       "      <td>2.0</td>\n",
       "      <td>30.0</td>\n",
       "      <td>0.0</td>\n",
       "      <td>1637</td>\n",
       "      <td>0.780</td>\n",
       "      <td>1.072</td>\n",
       "      <td>NaN</td>\n",
       "      <td>OAS1_0456_MR1_mpr_n4_anon_111_t88_gfc_128.png</td>\n",
       "    </tr>\n",
       "    <tr>\n",
       "      <th>699</th>\n",
       "      <td>699</td>\n",
       "      <td>OAS1_0457_MR1</td>\n",
       "      <td>F</td>\n",
       "      <td>R</td>\n",
       "      <td>62</td>\n",
       "      <td>3.0</td>\n",
       "      <td>3.0</td>\n",
       "      <td>26.0</td>\n",
       "      <td>0.0</td>\n",
       "      <td>1372</td>\n",
       "      <td>0.766</td>\n",
       "      <td>1.279</td>\n",
       "      <td>NaN</td>\n",
       "      <td>OAS1_0457_MR1_mpr_n3_anon_111_t88_gfc_44.png</td>\n",
       "    </tr>\n",
       "    <tr>\n",
       "      <th>700</th>\n",
       "      <td>700</td>\n",
       "      <td>OAS1_0457_MR1</td>\n",
       "      <td>F</td>\n",
       "      <td>R</td>\n",
       "      <td>62</td>\n",
       "      <td>3.0</td>\n",
       "      <td>3.0</td>\n",
       "      <td>26.0</td>\n",
       "      <td>0.0</td>\n",
       "      <td>1372</td>\n",
       "      <td>0.766</td>\n",
       "      <td>1.279</td>\n",
       "      <td>NaN</td>\n",
       "      <td>OAS1_0457_MR1_mpr_n3_anon_111_t88_gfc_86.png</td>\n",
       "    </tr>\n",
       "    <tr>\n",
       "      <th>701</th>\n",
       "      <td>701</td>\n",
       "      <td>OAS1_0457_MR1</td>\n",
       "      <td>F</td>\n",
       "      <td>R</td>\n",
       "      <td>62</td>\n",
       "      <td>3.0</td>\n",
       "      <td>3.0</td>\n",
       "      <td>26.0</td>\n",
       "      <td>0.0</td>\n",
       "      <td>1372</td>\n",
       "      <td>0.766</td>\n",
       "      <td>1.279</td>\n",
       "      <td>NaN</td>\n",
       "      <td>OAS1_0457_MR1_mpr_n3_anon_111_t88_gfc_128.png</td>\n",
       "    </tr>\n",
       "  </tbody>\n",
       "</table>\n",
       "<p>702 rows × 14 columns</p>\n",
       "</div>"
      ],
      "text/plain": [
       "     Unnamed: 0             ID M/F Hand  Age  Educ  SES  MMSE  CDR  eTIV  \\\n",
       "0             0  OAS1_0001_MR1   F    R   74   2.0  3.0  29.0  0.0  1344   \n",
       "1             1  OAS1_0001_MR1   F    R   74   2.0  3.0  29.0  0.0  1344   \n",
       "2             2  OAS1_0001_MR1   F    R   74   2.0  3.0  29.0  0.0  1344   \n",
       "3             3  OAS1_0002_MR1   F    R   55   4.0  1.0  29.0  0.0  1147   \n",
       "4             4  OAS1_0002_MR1   F    R   55   4.0  1.0  29.0  0.0  1147   \n",
       "..          ...            ...  ..  ...  ...   ...  ...   ...  ...   ...   \n",
       "697         697  OAS1_0456_MR1   M    R   61   5.0  2.0  30.0  0.0  1637   \n",
       "698         698  OAS1_0456_MR1   M    R   61   5.0  2.0  30.0  0.0  1637   \n",
       "699         699  OAS1_0457_MR1   F    R   62   3.0  3.0  26.0  0.0  1372   \n",
       "700         700  OAS1_0457_MR1   F    R   62   3.0  3.0  26.0  0.0  1372   \n",
       "701         701  OAS1_0457_MR1   F    R   62   3.0  3.0  26.0  0.0  1372   \n",
       "\n",
       "      nWBV    ASF  Delay                                       Filename  \n",
       "0    0.743  1.306    NaN   OAS1_0001_MR1_mpr_n4_anon_111_t88_gfc_44.png  \n",
       "1    0.743  1.306    NaN   OAS1_0001_MR1_mpr_n4_anon_111_t88_gfc_86.png  \n",
       "2    0.743  1.306    NaN  OAS1_0001_MR1_mpr_n4_anon_111_t88_gfc_128.png  \n",
       "3    0.810  1.531    NaN   OAS1_0002_MR1_mpr_n4_anon_111_t88_gfc_44.png  \n",
       "4    0.810  1.531    NaN   OAS1_0002_MR1_mpr_n4_anon_111_t88_gfc_86.png  \n",
       "..     ...    ...    ...                                            ...  \n",
       "697  0.780  1.072    NaN   OAS1_0456_MR1_mpr_n4_anon_111_t88_gfc_86.png  \n",
       "698  0.780  1.072    NaN  OAS1_0456_MR1_mpr_n4_anon_111_t88_gfc_128.png  \n",
       "699  0.766  1.279    NaN   OAS1_0457_MR1_mpr_n3_anon_111_t88_gfc_44.png  \n",
       "700  0.766  1.279    NaN   OAS1_0457_MR1_mpr_n3_anon_111_t88_gfc_86.png  \n",
       "701  0.766  1.279    NaN  OAS1_0457_MR1_mpr_n3_anon_111_t88_gfc_128.png  \n",
       "\n",
       "[702 rows x 14 columns]"
      ]
     },
     "metadata": {},
     "output_type": "display_data"
    }
   ],
   "source": [
    "file_dir = 'C:/Users/burch/OneDrive/Documents/MRI_Slices/'\n",
    "\n",
    "labels = pd.read_csv(file_dir + 'labels.csv')\n",
    "display(labels)\n",
    "y = labels.CDR"
   ]
  },
  {
   "cell_type": "code",
   "execution_count": 14,
   "id": "e54abde0",
   "metadata": {},
   "outputs": [
    {
     "name": "stdout",
     "output_type": "stream",
     "text": [
      "(561,) (141,)\n"
     ]
    }
   ],
   "source": [
    "from matplotlib import pyplot as plt\n",
    "import matplotlib\n",
    "\n",
    "data = np.zeros([702, 36608])\n",
    "\n",
    "for n, file_name in enumerate(labels.Filename):\n",
    "    data[n,:] = np.mean(matplotlib.image.imread(file_dir + file_name),axis=2).reshape(-1)\n",
    "\n",
    "    \n",
    "    \n",
    "from sklearn.model_selection import train_test_split\n",
    "\n",
    "X_train, X_test, y_train, y_test = train_test_split(data, y, test_size=0.2, random_state=0)\n",
    "print(y_train.shape, y_test.shape)"
   ]
  },
  {
   "cell_type": "code",
   "execution_count": 15,
   "id": "5cf81b94",
   "metadata": {},
   "outputs": [],
   "source": [
    "#downsampling\n",
    "DS = 8             # Downsample rate, must be a factor of 36608\n",
    "\n",
    "N_train = y_train.shape[0]  # The length of the training data\n",
    "y_train = np.array(y_train)\n",
    "\n",
    "if 36608/DS % 1 > 0:\n",
    "    print(\"Downsample rate is not a multiple of 36608\")\n",
    "    DS = 1\n",
    "    im_size = 36608\n",
    "else:\n",
    "    im_size = int(36608/DS)\n",
    "\n",
    "Xds_train = np.zeros([N_train*DS, im_size])\n",
    "yds_train = np.zeros([N_train*DS])\n",
    "   \n",
    "for n in range(N_train):\n",
    "    for i in range(DS):\n",
    "        Xds_train[n*DS+i,:] = X_train[n,i::DS]\n",
    "        yds_train[n*DS+i] = y_train[n]"
   ]
  },
  {
   "cell_type": "code",
   "execution_count": 17,
   "id": "6ef3d495",
   "metadata": {},
   "outputs": [
    {
     "name": "stdout",
     "output_type": "stream",
     "text": [
      "shape of feature training data: (4488, 4576)\n",
      "shape of target training data: (4488,)\n"
     ]
    }
   ],
   "source": [
    "print(\"shape of feature training data:\", Xds_train.shape)\n",
    "print(\"shape of target training data:\", yds_train.shape)"
   ]
  },
  {
   "cell_type": "code",
   "execution_count": 18,
   "id": "23e81229",
   "metadata": {},
   "outputs": [
    {
     "name": "stdout",
     "output_type": "stream",
     "text": [
      "(1128, 4576)\n",
      "(1128,)\n"
     ]
    }
   ],
   "source": [
    "#testing data\n",
    "y_test = np.matrix(y_test)\n",
    "\n",
    "Xds_test = np.zeros([141*DS, im_size])\n",
    "yds_test = np.zeros([141*DS])\n",
    "\n",
    "for n in range(140):\n",
    "    for i in range(DS):\n",
    "        Xds_test[n*DS+i,:] = X_test[n,i::DS]\n",
    "        yds_test[n*DS+i] = y_test[0,n]\n",
    "\n",
    "print(Xds_test.shape)\n",
    "print(yds_test.shape)"
   ]
  },
  {
   "cell_type": "code",
   "execution_count": 19,
   "id": "45f24aa4",
   "metadata": {},
   "outputs": [],
   "source": [
    "y_traind = pd.get_dummies(yds_train)\n",
    "y_testd = pd.get_dummies(yds_test)"
   ]
  },
  {
   "cell_type": "markdown",
   "id": "eab6496b",
   "metadata": {},
   "source": [
    "This problem would prove elusive. I took a number of approaches, including removing the bias vector and all methods of addressing overfitting in the previous problem. \n",
    "\n",
    "I suspect that the problem is that the dimensionality of the data set is too high and the number of samples too low. (This was also an issue I ran into several times when building a classifier for the 20 newsgroups dataset featured elsewhere on my github.)\n",
    "\n",
    "The best validation accuracy I achieved was 57%; that particular model had outrageous validation loss. I present the following simple model, which achieved 54% validation accuracy, because it has to its merit metrics that indicate it is not overfitting. As such, it would be a good starting off point for improving this classifier.\n",
    "\n",
    "However, as I said above, ultimately I determined that there are other neural networks more suited for classifying the MRI slices.\n",
    "\n",
    "It's worth noting that the original instructions for this lab challenged students to build a classifier which did better than classifying everything as the same label (which would yield 25% accuracy). On that front this solution is a success."
   ]
  },
  {
   "cell_type": "code",
   "execution_count": 22,
   "id": "09f2f231",
   "metadata": {},
   "outputs": [
    {
     "name": "stdout",
     "output_type": "stream",
     "text": [
      "Model: \"sequential_7\"\n",
      "_________________________________________________________________\n",
      " Layer (type)                Output Shape              Param #   \n",
      "=================================================================\n",
      " flatten_7 (Flatten)         (None, 4576)              0         \n",
      "                                                                 \n",
      " dense_19 (Dense)            (None, 30)                137280    \n",
      "                                                                 \n",
      " dense_20 (Dense)            (None, 4)                 120       \n",
      "                                                                 \n",
      "=================================================================\n",
      "Total params: 137,400\n",
      "Trainable params: 137,400\n",
      "Non-trainable params: 0\n",
      "_________________________________________________________________\n",
      "Epoch 1/20\n",
      "141/141 [==============================] - 1s 4ms/step - loss: 0.1437 - accuracy: 0.5775 - val_loss: 0.1572 - val_accuracy: 0.5461\n",
      "Epoch 2/20\n",
      "141/141 [==============================] - 0s 3ms/step - loss: 0.1411 - accuracy: 0.5787 - val_loss: 0.1479 - val_accuracy: 0.5461\n",
      "Epoch 3/20\n",
      "141/141 [==============================] - 1s 4ms/step - loss: 0.1401 - accuracy: 0.5793 - val_loss: 0.1471 - val_accuracy: 0.5461\n",
      "Epoch 4/20\n",
      "141/141 [==============================] - 0s 3ms/step - loss: 0.1390 - accuracy: 0.5793 - val_loss: 0.1526 - val_accuracy: 0.5461\n",
      "Epoch 5/20\n",
      "141/141 [==============================] - 0s 3ms/step - loss: 0.1386 - accuracy: 0.5793 - val_loss: 0.1463 - val_accuracy: 0.5461\n",
      "Epoch 6/20\n",
      "141/141 [==============================] - 0s 3ms/step - loss: 0.1377 - accuracy: 0.5791 - val_loss: 0.1473 - val_accuracy: 0.5461\n",
      "Epoch 7/20\n",
      "141/141 [==============================] - 0s 3ms/step - loss: 0.1373 - accuracy: 0.5791 - val_loss: 0.1451 - val_accuracy: 0.5470\n",
      "Epoch 8/20\n",
      "141/141 [==============================] - 0s 3ms/step - loss: 0.1365 - accuracy: 0.5791 - val_loss: 0.1448 - val_accuracy: 0.5496\n",
      "Epoch 9/20\n",
      "141/141 [==============================] - 0s 3ms/step - loss: 0.1358 - accuracy: 0.5782 - val_loss: 0.1450 - val_accuracy: 0.5470\n",
      "Epoch 10/20\n",
      "141/141 [==============================] - 1s 4ms/step - loss: 0.1352 - accuracy: 0.5787 - val_loss: 0.1461 - val_accuracy: 0.5550\n",
      "Epoch 11/20\n",
      "141/141 [==============================] - 0s 3ms/step - loss: 0.1351 - accuracy: 0.5780 - val_loss: 0.1438 - val_accuracy: 0.5496\n",
      "Epoch 12/20\n",
      "141/141 [==============================] - 1s 4ms/step - loss: 0.1342 - accuracy: 0.5789 - val_loss: 0.1435 - val_accuracy: 0.5532\n",
      "Epoch 13/20\n",
      "141/141 [==============================] - 1s 4ms/step - loss: 0.1335 - accuracy: 0.5780 - val_loss: 0.1437 - val_accuracy: 0.5523\n",
      "Epoch 14/20\n",
      "141/141 [==============================] - 0s 3ms/step - loss: 0.1330 - accuracy: 0.5807 - val_loss: 0.1438 - val_accuracy: 0.5505\n",
      "Epoch 15/20\n",
      "141/141 [==============================] - 0s 3ms/step - loss: 0.1324 - accuracy: 0.5795 - val_loss: 0.1489 - val_accuracy: 0.5461\n",
      "Epoch 16/20\n",
      "141/141 [==============================] - 0s 3ms/step - loss: 0.1321 - accuracy: 0.5824 - val_loss: 0.1427 - val_accuracy: 0.5541\n",
      "Epoch 17/20\n",
      "141/141 [==============================] - 1s 4ms/step - loss: 0.1318 - accuracy: 0.5818 - val_loss: 0.1517 - val_accuracy: 0.5461\n",
      "Epoch 18/20\n",
      "141/141 [==============================] - 1s 4ms/step - loss: 0.1312 - accuracy: 0.5840 - val_loss: 0.1422 - val_accuracy: 0.5496\n",
      "Epoch 19/20\n",
      "141/141 [==============================] - 0s 3ms/step - loss: 0.1308 - accuracy: 0.5853 - val_loss: 0.1427 - val_accuracy: 0.5523\n",
      "Epoch 20/20\n",
      "141/141 [==============================] - 0s 3ms/step - loss: 0.1300 - accuracy: 0.5849 - val_loss: 0.1505 - val_accuracy: 0.5461\n"
     ]
    },
    {
     "data": {
      "text/plain": [
       "(0.0, 1.0)"
      ]
     },
     "execution_count": 22,
     "metadata": {},
     "output_type": "execute_result"
    },
    {
     "data": {
      "image/png": "[encoded data removed]",
      "text/plain": [
       "<Figure size 800x500 with 1 Axes>"
      ]
     },
     "metadata": {},
     "output_type": "display_data"
    }
   ],
   "source": [
    "MRI_model = Sequential()\n",
    "MRI_model.add(keras.layers.Flatten(input_dim = 4576))\n",
    "MRI_model.add(keras.layers.Dense(30, activation = 'relu', use_bias = False))\n",
    "MRI_model.add(keras.layers.Dense(4, activation = 'sigmoid', use_bias = False))\n",
    "\n",
    "MRI_model.summary()\n",
    "\n",
    "MRI_model.compile(loss=\"mean_squared_error\",\n",
    "              optimizer=\"sgd\",\n",
    "              metrics=[\"accuracy\"])\n",
    "\n",
    "history = MRI_model.fit(Xds_train, y_traind, epochs=20,\n",
    "                    validation_data=(Xds_test, y_testd))\n",
    "\n",
    "pd.DataFrame(history.history).plot(figsize=(8, 5))\n",
    "plt.grid(True)\n",
    "plt.ylim(0, 1)"
   ]
  },
  {
   "cell_type": "code",
   "execution_count": null,
   "id": "0562b4bc",
   "metadata": {},
   "outputs": [],
   "source": []
  }
 ],
 "metadata": {
  "kernelspec": {
   "display_name": "Python 3 (ipykernel)",
   "language": "python",
   "name": "python3"
  },
  "language_info": {
   "codemirror_mode": {
    "name": "ipython",
    "version": 3
   },
   "file_extension": ".py",
   "mimetype": "text/x-python",
   "name": "python",
   "nbconvert_exporter": "python",
   "pygments_lexer": "ipython3",
   "version": "3.9.13"
  }
 },
 "nbformat": 4,
 "nbformat_minor": 5
}
